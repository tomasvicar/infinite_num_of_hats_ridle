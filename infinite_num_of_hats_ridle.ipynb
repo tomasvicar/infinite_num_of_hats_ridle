{
  "nbformat": 4,
  "nbformat_minor": 0,
  "metadata": {
    "colab": {
      "name": "infinite_num_of_hats_ridle.ipynb",
      "provenance": [],
      "authorship_tag": "ABX9TyMXpEU0dLmGLwxMJwySMOVH",
      "include_colab_link": true
    },
    "kernelspec": {
      "name": "python3",
      "display_name": "Python 3"
    }
  },
  "cells": [
    {
      "cell_type": "markdown",
      "metadata": {
        "id": "view-in-github",
        "colab_type": "text"
      },
      "source": [
        "<a href=\"https://colab.research.google.com/github/tomasvicar/infinite_num_of_hats_ridle/blob/master/infinite_num_of_hats_ridle.ipynb\" target=\"_parent\"><img src=\"https://colab.research.google.com/assets/colab-badge.svg\" alt=\"Open In Colab\"/></a>"
      ]
    },
    {
      "cell_type": "code",
      "metadata": {
        "id": "gS6vaWfVUuqT",
        "colab_type": "code",
        "colab": {}
      },
      "source": [
        "\n",
        "import numpy as np\n",
        "\n",
        "num_of_players=10\n",
        "rounds=1000\n",
        "search_pattern_num_of_w=0\n",
        "\n",
        "\n",
        "win_count=0\n",
        "lose_count=0\n",
        "\n",
        "for round in rounds:\n",
        "\n",
        "    hats=np.rand((10000,num_of_players))>0.5\n",
        "\n",
        "\n",
        "\n",
        "\n",
        "\n",
        "\n",
        "\n",
        "\n",
        "    \n",
        "\n"
      ],
      "execution_count": 0,
      "outputs": []
    }
  ]
}